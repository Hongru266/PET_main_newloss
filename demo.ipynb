{
 "cells": [
  {
   "cell_type": "code",
   "execution_count": null,
   "id": "70dec1bc",
   "metadata": {
    "vscode": {
     "languageId": "plaintext"
    }
   },
   "outputs": [],
   "source": [
    "\n",
    "mask_path = \"data/UCF-QNRF/masks/*.npy\"\n",
    "dict_path = \"data/UCF-QNRF/dict/*.json\"\n",
    "\n",
    "mask_list = sorted"
   ]
  }
 ],
 "metadata": {
  "language_info": {
   "name": "python"
  }
 },
 "nbformat": 4,
 "nbformat_minor": 5
}
